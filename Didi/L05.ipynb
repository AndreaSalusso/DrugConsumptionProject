{
 "cells": [
  {
   "cell_type": "markdown",
   "source": [
    "# Intro to Coding and Data Management\n",
    "\n",
    "# Part II\n",
    "\n",
    "# Lectures 8, 9, and 10: Pandas Series and Dataframes, operation, mapping, join\n",
    "\n",
    "\n",
    "\n",
    "### ET7006\n",
    "\n",
    "### Prof. Pietro Ferrara\n",
    "#### Department of Environmental Sciences, Informatics and Statistics\n",
    "#### pietro.ferrara@unive.it"
   ],
   "metadata": {
    "collapsed": false
   }
  },
  {
   "cell_type": "markdown",
   "source": [
    "# Pandas: Python Data Analysis Library\n",
    "\n",
    "See: https://pandas.pydata.org/\n",
    "\n",
    "Pandas provides efficient data Classes for **data wrangling** and **data analysis**.\n",
    "\n",
    " - Data (rows/columns) are labeled\n",
    " - Support for pre-processing/cleaning tasks\n",
    " - Operations of multiple data sets"
   ],
   "metadata": {
    "collapsed": false
   }
  },
  {
   "cell_type": "markdown",
   "source": [
    "# Series\n",
    "\n",
    "A Series is a one-dimensional object similar to numpy.array with an associated array of data labels.\n",
    "\n",
    "To learn more about the \"Series\" class see: https://pandas.pydata.org/pandas-docs/stable/generated/pandas.Series.html"
   ],
   "metadata": {
    "collapsed": false
   }
  },
  {
   "cell_type": "code",
   "execution_count": null,
   "outputs": [],
   "source": [
    "import pandas as pd\n",
    "import numpy as np\n",
    "\n",
    "ser = pd.Series([4, 7, -5, 3], dtype=np.int16) #call constructor to create a Series object\n",
    "print (ser)"
   ],
   "metadata": {
    "collapsed": false,
    "pycharm": {
     "name": "#%%\n"
    }
   }
  },
  {
   "cell_type": "markdown",
   "source": [
    "During construction you can specify an index to map to the series data.\n",
    "\n",
    "That index can be used to access data items. In this respect, a Series behaves similar to a dictionary."
   ],
   "metadata": {
    "collapsed": false
   }
  },
  {
   "cell_type": "code",
   "execution_count": null,
   "outputs": [],
   "source": [
    "ser = pd.Series([4, 7, -5, 3], index=['d', 'b', 'a', 'd'])\n",
    "\n",
    "print (ser)\n",
    "print()\n",
    "print (ser['d'])"
   ],
   "metadata": {
    "collapsed": false,
    "pycharm": {
     "name": "#%%\n"
    }
   }
  },
  {
   "cell_type": "markdown",
   "source": [
    "It is possible to apply element-wise operations and those operations preserve the index."
   ],
   "metadata": {
    "collapsed": false
   }
  },
  {
   "cell_type": "code",
   "execution_count": null,
   "outputs": [],
   "source": [
    "ser = pd.Series([4, 7, -5, 3], index=['d', 'b', 'a', 'd'])\n",
    "print (ser)\n",
    "print()\n",
    "\n",
    "ser = 2*ser\n",
    "print (ser)\n",
    "print()\n",
    "\n",
    "def square(x):\n",
    "    return x * x\n",
    "\n",
    "ser = square(ser)\n",
    "print (ser)"
   ],
   "metadata": {
    "collapsed": false,
    "pycharm": {
     "name": "#%%\n"
    }
   }
  },
  {
   "cell_type": "markdown",
   "source": [
    "You can get the data and the indices seperately."
   ],
   "metadata": {
    "collapsed": false
   }
  },
  {
   "cell_type": "code",
   "execution_count": null,
   "outputs": [],
   "source": [
    "ser = pd.Series([4, 7, -5, 3], index=['d', 'b', 'a', 'd'])\n",
    "values = ser.values\n",
    "indexes = ser.index\n",
    "print (ser.values)\n",
    "print(type(ser.values))\n",
    "print (ser.index.values)\n",
    "print(type(ser.index.values))"
   ],
   "metadata": {
    "collapsed": false,
    "pycharm": {
     "name": "#%%\n"
    }
   }
  },
  {
   "cell_type": "markdown",
   "source": [
    "#### Constructing with a List and Index\n",
    "If needed, the index can be modified."
   ],
   "metadata": {
    "collapsed": false
   }
  },
  {
   "cell_type": "code",
   "execution_count": null,
   "outputs": [],
   "source": [
    "ser = pd.Series([4, 7, -5, 3], index=['d', 'b', 'a', 'd'])\n",
    "print (ser)\n",
    "print ()\n",
    "\n",
    "ser.index = [1,2,3,4]\n",
    "print (ser)"
   ],
   "metadata": {
    "collapsed": false,
    "pycharm": {
     "name": "#%%\n"
    }
   }
  },
  {
   "cell_type": "markdown",
   "source": [
    "#### Constructing with a Dictionary and using `in` operator\n",
    "Given the similarity with dictionaries, Pandas provides some dictionary-like functionalities. Below note the use of the operator `in` to check if a label exists in the series index."
   ],
   "metadata": {
    "collapsed": false
   }
  },
  {
   "cell_type": "code",
   "execution_count": null,
   "outputs": [],
   "source": [
    "ser = pd.Series({'Ohio': 35000, 'Texas': 71000, \n",
    "                 'Oregon': 16000, 'Utah': 5000})\n",
    "\n",
    "print (ser)\n",
    "print()\n",
    "\n",
    "print (\"Ohio in Series:\", \"Ohio\" in ser)\n",
    "print (\"Nevada in Series:\", \"Nevada\" in ser)"
   ],
   "metadata": {
    "collapsed": false,
    "pycharm": {
     "name": "#%%\n"
    }
   }
  },
  {
   "cell_type": "markdown",
   "source": [
    "#### Constructing with a Dictionary and Index\n",
    "When constructing a series with a dictionary for the series data and passing also an index, the series constructor used the index values like before but filters the data to only use matching entries of the dictionary."
   ],
   "metadata": {
    "collapsed": false
   }
  },
  {
   "cell_type": "code",
   "execution_count": null,
   "outputs": [],
   "source": [
    "ser = pd.Series({'Ohio': 35000, 'Texas': 71000, \n",
    "                 'Oregon': 16000, 'Utah': 5000},\n",
    "               index=['Ohio', 'Texas', 'California']) # Ohio and Texas are in the Dictionary and California is not\n",
    "\n",
    "print (ser)\n",
    "pd.isnull(ser)"
   ],
   "metadata": {
    "collapsed": false,
    "pycharm": {
     "name": "#%%\n"
    }
   }
  },
  {
   "cell_type": "markdown",
   "source": [
    "Note that `'Utah'` was not included, and that a special value `NaN` is used for the index `California`."
   ],
   "metadata": {
    "collapsed": false
   }
  },
  {
   "cell_type": "markdown",
   "source": [
    "#### Data Cleansing with `isnull()` and boolean indexing\n",
    "\n",
    "Missing data is common, and usually `NaN` is used to represent them.\n",
    "\n",
    "Boolean indexing makes it possible to use a vector of boolean values to filter the elements we are interested in.\n",
    "\n",
    "It is possible to use `isnull` to create a vector identifying any null or `NaN` values, and use this vector to update the values in the series replacing the `NaN` with an appropriate value for the analysis we are doing."
   ],
   "metadata": {
    "collapsed": false
   }
  },
  {
   "cell_type": "code",
   "execution_count": null,
   "outputs": [],
   "source": [
    "ser = pd.Series({'Ohio': 35000, 'Texas': 71000, \n",
    "                 'Oregon': 16000, 'Utah': 5000},\n",
    "               index=['Ohio', 'Texas', 'California'])\n",
    "print(ser)\n",
    "print()\n",
    "\n",
    "print (pd.isnull(ser)) #show our boolean vector\n",
    "print()\n",
    "\n",
    "ser [ pd.isnull(ser) ] = 0 #update only the `True` values\n",
    "\n",
    "print (ser) #show our cleansed series\n",
    "\n",
    "print (pd.isnull(ser)) #show our boolean vector\n",
    "print()"
   ],
   "metadata": {
    "collapsed": false,
    "pycharm": {
     "name": "#%%\n"
    }
   }
  },
  {
   "cell_type": "markdown",
   "source": [
    "#### Data cleansing with `fillna(fill_value)`\n",
    "Alternatively one can use the `fillna` method."
   ],
   "metadata": {
    "collapsed": false
   }
  },
  {
   "cell_type": "code",
   "execution_count": null,
   "outputs": [],
   "source": [
    "ser = pd.Series({'Ohio': 35000, 'Texas': 71000, \n",
    "                 'Oregon': 16000, 'Utah': 5000},\n",
    "               index=['Ohio', 'Texas', 'California'])\n",
    "\n",
    "ser2 = ser.fillna(0)\n",
    "print (ser)\n",
    "print()\n",
    "print (ser2)\n",
    "print (ser)"
   ],
   "metadata": {
    "collapsed": false,
    "pycharm": {
     "name": "#%%\n"
    }
   }
  },
  {
   "cell_type": "markdown",
   "source": [
    "#### Data cleansing with `fillna(fill_value, inplace=True)`\n",
    "We can also use the `fillna` method inplace to modify the series."
   ],
   "metadata": {
    "collapsed": false
   }
  },
  {
   "cell_type": "code",
   "execution_count": null,
   "outputs": [],
   "source": [
    "ser = pd.Series({'Ohio': 35000, 'Texas': 71000, \n",
    "                 'Oregon': 16000, 'Utah': 5000},\n",
    "               index=['Ohio', 'Texas', 'California'])\n",
    "\n",
    "ser.fillna(0, inplace=True)\n",
    "print (ser)"
   ],
   "metadata": {
    "collapsed": false,
    "pycharm": {
     "name": "#%%\n"
    }
   }
  },
  {
   "cell_type": "markdown",
   "source": [
    "Index is used to align data during element-wise operations."
   ],
   "metadata": {
    "collapsed": false
   }
  },
  {
   "cell_type": "code",
   "execution_count": null,
   "outputs": [],
   "source": [
    "ser1 = pd.Series({'Ohio': 35000, 'Texas': 71000, \n",
    "                 'Oregon': 16000, 'Utah': 5000})\n",
    "ser2 = pd.Series({'Ohio': 31000, 'Texas': 7000, \n",
    "                 'Oregon': 26000, 'California': 50000})\n",
    "#ser1['California'] = 0\n",
    "print (ser1,\"\\n\")\n",
    "print()\n",
    "print (ser2,\"\\n\")\n",
    "print()\n",
    "result = ser1+ser2\n",
    "print (result)"
   ],
   "metadata": {
    "collapsed": false,
    "pycharm": {
     "name": "#%%\n"
    }
   }
  },
  {
   "cell_type": "markdown",
   "source": [
    "# DataFrame\n",
    "\n",
    "A DataFrame is two-dimensional data structure. It provides an index (row names) and column names.\n",
    "\n",
    "See: https://pandas.pydata.org/pandas-docs/stable/generated/pandas.DataFrame.html\n",
    "\n",
    "It is easy to create a DataFrame from a dictionary, where each key represents a column of the table."
   ],
   "metadata": {
    "collapsed": false
   }
  },
  {
   "cell_type": "code",
   "execution_count": null,
   "outputs": [],
   "source": [
    "data = {'state': ['Ohio', 'Ohio', 'Ohio', 'Nevada', 'Nevada'], \n",
    "        'year': [2000, 2001, 2002, 2001, 2002],\n",
    "        'pop': [1.5, 1.7, 3.6, 2.4, 2.9]}\n",
    "frame = pd.DataFrame(data)\n",
    "\n",
    "frame"
   ],
   "metadata": {
    "collapsed": false,
    "pycharm": {
     "name": "#%%\n"
    }
   }
  },
  {
   "cell_type": "code",
   "execution_count": null,
   "outputs": [],
   "source": [
    "frame.info()"
   ],
   "metadata": {
    "collapsed": false,
    "pycharm": {
     "name": "#%%\n"
    }
   }
  },
  {
   "cell_type": "code",
   "execution_count": null,
   "outputs": [],
   "source": [
    "data =  [['Ohio', 'Ohio', 'Ohio', 'Nevada', 'Nevada'], \n",
    "         [2000, 2001, 2002, 2001, 2002],\n",
    "         [1.5, 1.7, 3.6, 2.4, 2.9]]\n",
    "frame = pd.DataFrame(data)\n",
    "frame"
   ],
   "metadata": {
    "collapsed": false,
    "pycharm": {
     "name": "#%%\n"
    }
   }
  },
  {
   "cell_type": "markdown",
   "source": [
    "Similarly to series, it is possible to define the index and the columns."
   ],
   "metadata": {
    "collapsed": false
   }
  },
  {
   "cell_type": "code",
   "execution_count": null,
   "outputs": [],
   "source": [
    "data =  [['Ohio', 'Ohio', 'Ohio', 'Nevada', 'Nevada'], \n",
    "         [2000, 2001, 2002, 2001, 2002],\n",
    "         [1.5, 1.7, 3.6, 2.4, 2.9]]\n",
    "frame = pd.DataFrame(data,\n",
    "                     index = ['state','year',  'pop'],\n",
    "                     columns=['one', 'two', 'three', 'four', 'five']).T\n",
    "\n",
    "frame"
   ],
   "metadata": {
    "collapsed": false,
    "pycharm": {
     "name": "#%%\n"
    }
   }
  },
  {
   "cell_type": "code",
   "execution_count": null,
   "outputs": [],
   "source": [
    "data = {'state': ['Ohio', 'Ohio', 'Ohio', 'Nevada', 'Nevada'], \n",
    "        'year': [2000, 2001, 2002, 2001, 2002],\n",
    "        'pop': [1.5, 1.7, 3.6, 2.4, 2.9]}\n",
    "frame = pd.DataFrame(data,\n",
    "                     columns = ['year', 'state', 'pop', 'debt'],\n",
    "                     index=['one', 'two', 'three', 'four', 'five'])\n",
    "\n",
    "frame"
   ],
   "metadata": {
    "collapsed": false,
    "pycharm": {
     "name": "#%%\n"
    }
   }
  },
  {
   "cell_type": "markdown",
   "source": [
    "It is possible to retrieve column names and the index (row names)."
   ],
   "metadata": {
    "collapsed": false
   }
  },
  {
   "cell_type": "code",
   "execution_count": null,
   "outputs": [],
   "source": [
    "print (frame.columns.values)"
   ],
   "metadata": {
    "collapsed": false,
    "pycharm": {
     "name": "#%%\n"
    }
   }
  },
  {
   "cell_type": "code",
   "execution_count": null,
   "outputs": [],
   "source": [
    "print (frame.index.values)"
   ],
   "metadata": {
    "collapsed": false,
    "pycharm": {
     "name": "#%%\n"
    }
   }
  },
  {
   "cell_type": "markdown",
   "source": [
    "The data can be retrieved similarly to Series."
   ],
   "metadata": {
    "collapsed": false
   }
  },
  {
   "cell_type": "code",
   "execution_count": null,
   "outputs": [],
   "source": [
    "print (frame.values)\n",
    "print(type(frame.values))"
   ],
   "metadata": {
    "collapsed": false,
    "pycharm": {
     "name": "#%%\n"
    }
   }
  },
  {
   "cell_type": "markdown",
   "source": [
    "Columns can be retrived by using with two different notations."
   ],
   "metadata": {
    "collapsed": false
   }
  },
  {
   "cell_type": "code",
   "execution_count": null,
   "outputs": [],
   "source": [
    "print (frame['state'])"
   ],
   "metadata": {
    "collapsed": false,
    "pycharm": {
     "name": "#%%\n"
    }
   }
  },
  {
   "cell_type": "code",
   "execution_count": null,
   "outputs": [],
   "source": [
    "print (frame.state)"
   ],
   "metadata": {
    "collapsed": false,
    "pycharm": {
     "name": "#%%\n"
    }
   }
  },
  {
   "cell_type": "markdown",
   "source": [
    "Rows can be accessed by their index as follows."
   ],
   "metadata": {
    "collapsed": false
   }
  },
  {
   "cell_type": "code",
   "execution_count": null,
   "outputs": [],
   "source": [
    "frame.loc['two']"
   ],
   "metadata": {
    "collapsed": false,
    "pycharm": {
     "name": "#%%\n"
    }
   }
  },
  {
   "cell_type": "markdown",
   "source": [
    "One element can be replaced as follows."
   ],
   "metadata": {
    "collapsed": false
   }
  },
  {
   "cell_type": "code",
   "execution_count": null,
   "outputs": [],
   "source": [
    "data = {'state': ['Ohio', 'Ohio', 'Ohio', 'Nevada', 'Nevada'], \n",
    "        'year': [2000, 2001, 2002, 2001, 2002],\n",
    "        'pop': [1.5, 1.7, 3.6, 2.4, 2.9]}\n",
    "frame = pd.DataFrame(data,\n",
    "                     columns = ['year', 'state', 'pop', 'debt'],\n",
    "                     index=['one', 'two', 'three', 'four', 'five'])\n",
    "\n",
    "print (frame)\n",
    "\n",
    "frame.loc['one','debt'] = 123\n",
    "\n",
    "print (frame)"
   ],
   "metadata": {
    "collapsed": false,
    "pycharm": {
     "name": "#%%\n"
    }
   }
  },
  {
   "cell_type": "code",
   "execution_count": null,
   "outputs": [],
   "source": [
    "frame['debt'] = 123\n",
    "\n",
    "print (frame)"
   ],
   "metadata": {
    "collapsed": false,
    "pycharm": {
     "name": "#%%\n"
    }
   }
  },
  {
   "cell_type": "code",
   "execution_count": null,
   "outputs": [],
   "source": [
    "frame.loc['five'] = 0\n",
    "\n",
    "print (frame)"
   ],
   "metadata": {
    "collapsed": false,
    "pycharm": {
     "name": "#%%\n"
    }
   }
  },
  {
   "cell_type": "markdown",
   "source": [
    "It is possible to add columns and rows."
   ],
   "metadata": {
    "collapsed": false
   }
  },
  {
   "cell_type": "code",
   "execution_count": null,
   "outputs": [],
   "source": [
    "data = {'state': ['Ohio', 'Ohio', 'Ohio', 'Nevada', 'Nevada'], \n",
    "        'year': [2000, 2001, 2002, 2001, 2002],\n",
    "        'pop': [1.5, 1.7, 3.6, 2.4, 2.9]}\n",
    "frame = pd.DataFrame(data,\n",
    "                     columns = ['year', 'state', 'pop', 'debt'],\n",
    "                     index=['one', 'two', 'three', 'four', 'five'])\n",
    "\n",
    "print (frame)\n",
    "print()\n",
    "\n",
    "frame['large_pop'] = frame['pop']>2.5\n",
    "\n",
    "print (frame)"
   ],
   "metadata": {
    "collapsed": false,
    "pycharm": {
     "name": "#%%\n"
    }
   }
  },
  {
   "cell_type": "code",
   "execution_count": null,
   "outputs": [],
   "source": [
    "frame.loc['six'] = [2003, 'Nevada', 3.0, 0, True]\n",
    "\n",
    "print (frame)\n"
   ],
   "metadata": {
    "collapsed": false,
    "pycharm": {
     "name": "#%%\n"
    }
   }
  },
  {
   "cell_type": "markdown",
   "source": [
    "# Aquiring data example - Vaccination Data\n",
    "\n",
    "First of all, let's start by building up a data frame with only a part of the information and visualize it."
   ],
   "metadata": {
    "collapsed": false
   }
  },
  {
   "cell_type": "code",
   "execution_count": null,
   "outputs": [],
   "source": [
    "import csv\n",
    "import pandas as pd\n",
    "import os\n",
    "import os.path\n",
    "\n",
    "data_folder = \"datasets\"\n",
    "full_filename = os.path.join( data_folder, 'somministrazioni-vaccini-summary-latest.csv')\n",
    "file_stream = open(full_filename, mode='r', newline='')\n",
    "reader = csv.reader(file_stream, delimiter=\",\")\n",
    "\n",
    "# read and ignore the first line\n",
    "header = next(reader)\n",
    "data = []\n",
    "# read the remaining part of the file\n",
    "for i in range(10):\n",
    "    info = next(reader)\n",
    "    data += [info]\n",
    "file_stream.close()\n",
    "\n",
    "df = pd.DataFrame(data)\n",
    "df.columns = header\n",
    "df"
   ],
   "metadata": {
    "collapsed": false,
    "pycharm": {
     "name": "#%%\n"
    }
   }
  },
  {
   "cell_type": "markdown",
   "source": [
    "So far so good. Let's read the whole dataset!\n"
   ],
   "metadata": {
    "collapsed": false
   }
  },
  {
   "cell_type": "code",
   "execution_count": null,
   "outputs": [],
   "source": [
    "import csv\n",
    "import pandas as pd\n",
    "import os\n",
    "import os.path\n",
    "\n",
    "data_folder = \"datasets\"\n",
    "full_filename = os.path.join( data_folder, 'somministrazioni-vaccini-summary-latest.csv')\n",
    "file_stream = open(full_filename, mode='r', newline='')\n",
    "reader = csv.reader(file_stream, delimiter=\",\")\n",
    "\n",
    "# read and ignore the first line\n",
    "header = next(reader)\n",
    "data = []\n",
    "# read the remaining part of the file\n",
    "for info in reader:\n",
    "    data += [info]\n",
    "file_stream.close()\n",
    "\n",
    "somministrazione_summary = pd.DataFrame(data)\n",
    "somministrazione_summary.columns = header\n",
    "somministrazione_summary.info()"
   ],
   "metadata": {
    "collapsed": false,
    "pycharm": {
     "name": "#%%\n"
    }
   }
  },
  {
   "cell_type": "markdown",
   "source": [
    "Now it is time to move also to another csv file. Let's pick punti-somministrazione-latest.csv, a table that contains all the\n",
    "vaccination points in Italy divided by region.\n"
   ],
   "metadata": {
    "collapsed": false
   }
  },
  {
   "cell_type": "code",
   "execution_count": null,
   "outputs": [],
   "source": [
    "import csv\n",
    "import pandas as pd\n",
    "import os\n",
    "import os.path\n",
    "\n",
    "data_folder = \"datasets\"\n",
    "full_filename = os.path.join( data_folder, 'punti-somministrazione-latest.csv')\n",
    "file_stream = open(full_filename, mode='r', newline='')\n",
    "reader = csv.reader(file_stream, delimiter=\",\")\n",
    "\n",
    "# read and ignore the first line\n",
    "header = next(reader)\n",
    "data = []\n",
    "# read the remaining part of the file\n",
    "for info in reader:\n",
    "    data += [info]\n",
    "file_stream.close()\n",
    "\n",
    "punti_somministrazione = pd.DataFrame(data)\n",
    "punti_somministrazione.columns = header\n",
    "punti_somministrazione.info()"
   ],
   "metadata": {
    "collapsed": false,
    "pycharm": {
     "name": "#%%\n"
    }
   }
  },
  {
   "cell_type": "markdown",
   "source": [
    "Ops... it didn't work because of a problem with the encoding!\n",
    "\n",
    "We can see that there are some characters with an accent (e.g., Vallée d'Aoste) as well as some non-standard characters.\n",
    "These might cause the problem. Therefore we need to specify the encoding when we open the file. We explicitly use the UTF-8\n",
    "encoding that, in most cases, solves such problems."
   ],
   "metadata": {
    "collapsed": false
   }
  },
  {
   "cell_type": "code",
   "execution_count": null,
   "outputs": [],
   "source": [
    "import csv\n",
    "import pandas as pd\n",
    "import os\n",
    "import os.path\n",
    "\n",
    "data_folder = \"datasets\"\n",
    "full_filename = os.path.join( data_folder, 'punti-somministrazione-latest.csv')\n",
    "file_stream = open(full_filename, encoding='utf-8', mode='r', newline='')\n",
    "reader = csv.reader(file_stream, delimiter=\",\")\n",
    "\n",
    "# read and ignore the first line\n",
    "header = next(reader)\n",
    "data = []\n",
    "# read the remaining part of the file\n",
    "for info in reader:\n",
    "    data += [info]\n",
    "file_stream.close()\n",
    "\n",
    "punti_somministrazione = pd.DataFrame(data)\n",
    "punti_somministrazione.columns = header\n",
    "punti_somministrazione.info()"
   ],
   "metadata": {
    "collapsed": false,
    "pycharm": {
     "name": "#%%\n"
    }
   }
  },
  {
   "cell_type": "code",
   "execution_count": null,
   "outputs": [],
   "source": [
    "somministrazione_summary.head(10) #show the first 10 entries in out dataset reviewssum"
   ],
   "metadata": {
    "collapsed": false,
    "pycharm": {
     "name": "#%%\n"
    }
   }
  },
  {
   "cell_type": "code",
   "execution_count": null,
   "outputs": [],
   "source": [
    "punti_somministrazione.head(10) #show the first 10 entries in out dataset listings"
   ],
   "metadata": {
    "collapsed": false,
    "pycharm": {
     "name": "#%%\n"
    }
   }
  },
  {
   "cell_type": "markdown",
   "source": [
    "In general, we can see that when we print a (part of a) dataframe, the table is properly formatted."
   ],
   "metadata": {
    "collapsed": false
   }
  },
  {
   "cell_type": "code",
   "execution_count": null,
   "outputs": [],
   "source": [
    "somministrazione_march = somministrazione_summary[(somministrazione_summary['data_somministrazione'] >= '2021-03-01') &\n",
    "                                                  (somministrazione_summary['data_somministrazione'] <= '2021-03-31')]\n",
    "somministrazione_march[\"totale\"].sum()"
   ],
   "metadata": {
    "collapsed": false,
    "pycharm": {
     "name": "#%%\n"
    }
   }
  },
  {
   "cell_type": "code",
   "execution_count": null,
   "outputs": [],
   "source": [
    "somministrazione_march[\"totale\"].astype(int).sum()\n"
   ],
   "metadata": {
    "collapsed": false,
    "pycharm": {
     "name": "#%%\n"
    }
   }
  },
  {
   "cell_type": "markdown",
   "source": [
    "## Dataframe copy, index and reindex"
   ],
   "metadata": {
    "collapsed": false
   }
  },
  {
   "cell_type": "code",
   "execution_count": null,
   "outputs": [],
   "source": [
    "import pandas as pd\n",
    "frame = pd.DataFrame([[0,1,2,3],[4,5,6,7],[8,9,10,11],[12,13,14,15]], index=['a','b','c', 'd'], columns=['Ohio', 'Colerado', 'Utah', 'New York'])\n",
    "frame"
   ],
   "metadata": {
    "collapsed": false,
    "pycharm": {
     "name": "#%%\n"
    }
   }
  },
  {
   "cell_type": "code",
   "execution_count": null,
   "outputs": [],
   "source": [
    "# make a copy of frame\n",
    "frame2=frame.copy()\n",
    "# change the index\n",
    "frame2.index =['Q1','Q2','Q3','Q4']\n",
    "frame2"
   ],
   "metadata": {
    "collapsed": false,
    "pycharm": {
     "name": "#%%\n"
    }
   }
  },
  {
   "cell_type": "code",
   "execution_count": null,
   "outputs": [],
   "source": [
    "# Australia business calendar starts in July and ends in June\n",
    "frameAus=frame2.reindex(['Q3','Q4','Q1','Q2'])\n",
    "frameAus.columns = ['Sydney','Melborne','Adelaide','Perth']\n",
    "frameAus"
   ],
   "metadata": {
    "collapsed": false,
    "pycharm": {
     "name": "#%%\n"
    }
   }
  },
  {
   "cell_type": "code",
   "execution_count": null,
   "outputs": [],
   "source": [
    "# you can reindex columns\n",
    "states = ['Texas', 'Utah', 'California','Colorado']\n",
    "# note what happens when a column doesn't exist\n",
    "frame.reindex(columns=states)"
   ],
   "metadata": {
    "collapsed": false,
    "pycharm": {
     "name": "#%%\n"
    }
   }
  },
  {
   "cell_type": "code",
   "execution_count": null,
   "outputs": [],
   "source": [
    "# let's correct the column heading\n",
    "cols = frame.columns.to_numpy()\n",
    "cols[1] = 'Colorado'\n",
    "frame.columns = cols\n",
    "frame"
   ],
   "metadata": {
    "collapsed": false,
    "pycharm": {
     "name": "#%%\n"
    }
   }
  },
  {
   "cell_type": "markdown",
   "source": [
    "## Dataframe slicing, loc, and iloc"
   ],
   "metadata": {
    "collapsed": false
   }
  },
  {
   "cell_type": "code",
   "execution_count": null,
   "outputs": [],
   "source": [
    "frame2"
   ],
   "metadata": {
    "collapsed": false,
    "pycharm": {
     "name": "#%%\n"
    }
   }
  },
  {
   "cell_type": "code",
   "execution_count": null,
   "outputs": [],
   "source": [
    "# use : to define a range, note the difference from numeric slices\n",
    "frame2.loc['Q1':'Q3','Ohio':'Utah']"
   ],
   "metadata": {
    "collapsed": false,
    "pycharm": {
     "name": "#%%\n"
    }
   }
  },
  {
   "cell_type": "code",
   "execution_count": null,
   "outputs": [],
   "source": [
    "# use list of index or columns to specify a non-contiguous set\n",
    "frame2.loc[['Q1','Q3'],['Ohio','New York']]"
   ],
   "metadata": {
    "collapsed": false,
    "pycharm": {
     "name": "#%%\n"
    }
   }
  },
  {
   "cell_type": "markdown",
   "source": [
    "## Dataframe stats, add and drop"
   ],
   "metadata": {
    "collapsed": false
   }
  },
  {
   "cell_type": "code",
   "execution_count": null,
   "outputs": [],
   "source": [
    "# let's have a look at the sum\n",
    "frame2.sum(axis=1)"
   ],
   "metadata": {
    "collapsed": false,
    "pycharm": {
     "name": "#%%\n"
    }
   }
  },
  {
   "cell_type": "code",
   "execution_count": null,
   "outputs": [],
   "source": [
    "# let's have a look at various stats\n",
    "frame2.describe()"
   ],
   "metadata": {
    "collapsed": false,
    "pycharm": {
     "name": "#%%\n"
    }
   }
  },
  {
   "cell_type": "code",
   "execution_count": null,
   "outputs": [],
   "source": [
    "# creating a new entry the way you do with dictionaries doesn't work like you might think\n",
    "frame2['Yr'] = frame2.sum()\n",
    "frame2"
   ],
   "metadata": {
    "collapsed": false,
    "pycharm": {
     "name": "#%%\n"
    }
   }
  },
  {
   "cell_type": "code",
   "execution_count": null,
   "outputs": [],
   "source": [
    "# let's clean up\n",
    "frame2.drop('Yr',axis=1,inplace=True)\n",
    "frame2"
   ],
   "metadata": {
    "collapsed": false,
    "pycharm": {
     "name": "#%%\n"
    }
   }
  },
  {
   "cell_type": "code",
   "execution_count": null,
   "outputs": [],
   "source": [
    "# Let's try again using loc\n",
    "frame2.loc['Yr'] = frame2.sum()\n",
    "frame2"
   ],
   "metadata": {
    "collapsed": false,
    "pycharm": {
     "name": "#%%\n"
    }
   }
  },
  {
   "cell_type": "code",
   "execution_count": null,
   "outputs": [],
   "source": [
    "frame2.drop(frame2.index[1:2])"
   ],
   "metadata": {
    "collapsed": false,
    "pycharm": {
     "name": "#%%\n"
    }
   }
  },
  {
   "cell_type": "code",
   "execution_count": null,
   "outputs": [],
   "source": [
    "frame2.drop(frame2.columns[1:3],axis=1)"
   ],
   "metadata": {
    "collapsed": false,
    "pycharm": {
     "name": "#%%\n"
    }
   }
  },
  {
   "cell_type": "markdown",
   "source": [
    "## Dataframe sorting and value counts"
   ],
   "metadata": {
    "collapsed": false
   }
  },
  {
   "cell_type": "code",
   "execution_count": null,
   "outputs": [],
   "source": [
    "frame"
   ],
   "metadata": {
    "collapsed": false,
    "pycharm": {
     "name": "#%%\n"
    }
   }
  },
  {
   "cell_type": "code",
   "execution_count": null,
   "outputs": [],
   "source": [
    "frame.sort_index(axis=1, ascending=True, inplace=True)\n",
    "frame"
   ],
   "metadata": {
    "collapsed": false,
    "pycharm": {
     "name": "#%%\n"
    }
   }
  },
  {
   "cell_type": "code",
   "execution_count": null,
   "outputs": [],
   "source": [
    "frame.sort_values(by=['b'],axis=1,ascending=True)"
   ],
   "metadata": {
    "collapsed": false,
    "pycharm": {
     "name": "#%%\n"
    }
   }
  },
  {
   "cell_type": "code",
   "execution_count": null,
   "outputs": [],
   "source": [
    "ser = pd.Series(['c', 'a', 'd', 'a', 'a', 'b', 'b', 'c', 'c'])\n",
    "ser.unique()"
   ],
   "metadata": {
    "collapsed": false,
    "pycharm": {
     "name": "#%%\n"
    }
   }
  },
  {
   "cell_type": "code",
   "execution_count": null,
   "outputs": [],
   "source": [
    "ser.value_counts()\n"
   ],
   "metadata": {
    "collapsed": false,
    "pycharm": {
     "name": "#%%\n"
    }
   }
  },
  {
   "cell_type": "markdown",
   "source": [
    "# Adding Data to an ndArray\n",
    "Numpy has several methods for adding data to an ndarray *append, vstack, hstack and column_stack* are common. Most of these have a strict requirement that the dimensions along the combining axis match."
   ],
   "metadata": {
    "collapsed": false
   }
  },
  {
   "cell_type": "markdown",
   "source": [
    "### Array creation using data list as row data\n",
    "\n",
    "We start by creating the usual 2-dimensional ndarray."
   ],
   "metadata": {
    "collapsed": false
   }
  },
  {
   "cell_type": "code",
   "execution_count": null,
   "outputs": [],
   "source": [
    "# standard import\n",
    "import numpy as np\n",
    "\n",
    "# matrix provided as a list of rows\n",
    "a = np.array( [ [1.,2.,3.],[4.,5.,6.] ] )\n",
    "print(a)"
   ],
   "metadata": {
    "collapsed": false,
    "pycharm": {
     "name": "#%%\n"
    }
   }
  },
  {
   "cell_type": "markdown",
   "source": [
    "### Adding a row using *append()*\n",
    "\n",
    "Method append (https://numpy.org/doc/stable/reference/generated/numpy.append.html) allows to add a row/some rows at the end of your matrix."
   ],
   "metadata": {
    "collapsed": false
   }
  },
  {
   "cell_type": "code",
   "execution_count": null,
   "outputs": [],
   "source": [
    "# note the axis and the list of list that gives the new data dimensions\n",
    "# compatible with the target array excluding the combining axis\n",
    "print(a.shape)\n",
    "appended = np.array([[7.,8.,9.]])\n",
    "print (appended.shape)\n",
    "\n",
    "result = np.append(a,appended,axis=0)\n",
    "result"
   ],
   "metadata": {
    "collapsed": false,
    "pycharm": {
     "name": "#%%\n"
    }
   }
  },
  {
   "cell_type": "code",
   "execution_count": null,
   "outputs": [],
   "source": [
    "appended = np.array([[10.,11.,12.], [13.,14.,15.]])\n",
    "result = np.append(a,appended,axis=0)\n",
    "result"
   ],
   "metadata": {
    "collapsed": false,
    "pycharm": {
     "name": "#%%\n"
    }
   }
  },
  {
   "cell_type": "markdown",
   "source": [
    "However we need that the shape of the appended ndarray must be compatible with the ndarray to which it is appended."
   ],
   "metadata": {
    "collapsed": false
   }
  },
  {
   "cell_type": "code",
   "execution_count": null,
   "outputs": [],
   "source": [
    "appended = np.array([[1., 2.]])\n",
    "np.append(a, appended, axis=0)"
   ],
   "metadata": {
    "collapsed": false,
    "pycharm": {
     "name": "#%%\n"
    }
   }
  },
  {
   "cell_type": "markdown",
   "source": [
    "As we can see from the message, all the dimensions of the appended ndarray except the concatenation axis (0 in this case) must be the same.\n",
    "\n",
    "Finally,"
   ],
   "metadata": {
    "collapsed": false
   }
  },
  {
   "cell_type": "code",
   "execution_count": null,
   "outputs": [],
   "source": [
    "np.append([[7.,8.,9.]],a,axis=0)"
   ],
   "metadata": {
    "collapsed": false,
    "pycharm": {
     "name": "#%%\n"
    }
   }
  },
  {
   "cell_type": "markdown",
   "source": [
    "### Adding a row using *concatenate()*"
   ],
   "metadata": {
    "collapsed": false
   }
  },
  {
   "cell_type": "code",
   "execution_count": null,
   "outputs": [],
   "source": [
    "# note that concatenate takes a tuple of arrays\n",
    "np.concatenate((a,[[7.,8.,9.]]),axis=0)"
   ],
   "metadata": {
    "collapsed": false,
    "pycharm": {
     "name": "#%%\n"
    }
   }
  },
  {
   "cell_type": "markdown",
   "source": [
    "### Adding a row using *vstack()*"
   ],
   "metadata": {
    "collapsed": false
   }
  },
  {
   "cell_type": "code",
   "execution_count": null,
   "outputs": [],
   "source": [
    "#note the tuple of arrays which must have the same dimension on the combining axis\n",
    "print(np.vstack([a, [7.,8.,9.]]))"
   ],
   "metadata": {
    "collapsed": false,
    "pycharm": {
     "name": "#%%\n"
    }
   }
  },
  {
   "cell_type": "code",
   "execution_count": null,
   "outputs": [],
   "source": [
    "#prepend\n",
    "print(np.vstack(([7.,8.,9.], a)))"
   ],
   "metadata": {
    "collapsed": false,
    "pycharm": {
     "name": "#%%\n"
    }
   }
  },
  {
   "cell_type": "markdown",
   "source": [
    "### Array creation using data list as column data"
   ],
   "metadata": {
    "collapsed": false
   }
  },
  {
   "cell_type": "code",
   "execution_count": null,
   "outputs": [],
   "source": [
    "# note that 'a' was created with list of row data\n",
    "# one can easy use list of column data to create the array\n",
    "# then transpose the rows into columns\n",
    "print(a)\n",
    "b = a.T\n",
    "b"
   ],
   "metadata": {
    "collapsed": false,
    "pycharm": {
     "name": "#%%\n"
    }
   }
  },
  {
   "cell_type": "markdown",
   "source": [
    "### Adding a column using *append()*"
   ],
   "metadata": {
    "collapsed": false
   }
  },
  {
   "cell_type": "code",
   "execution_count": null,
   "outputs": [],
   "source": [
    "print(b.shape)\n",
    "print(np.array([[7.],[8.],[9.]]).shape)\n",
    "print(b)\n",
    "np.append(b,[[7.],[8.],[9.]],axis=1)"
   ],
   "metadata": {
    "collapsed": false,
    "pycharm": {
     "name": "#%%\n"
    }
   }
  },
  {
   "cell_type": "code",
   "execution_count": null,
   "outputs": [],
   "source": [
    "np.append([[7.],[8.],[9.]],b,axis=1)"
   ],
   "metadata": {
    "collapsed": false,
    "pycharm": {
     "name": "#%%\n"
    }
   }
  },
  {
   "cell_type": "markdown",
   "source": [
    "### Adding a column using *concatenate()*"
   ],
   "metadata": {
    "collapsed": false
   }
  },
  {
   "cell_type": "code",
   "execution_count": null,
   "outputs": [],
   "source": [
    "print(b.shape)\n",
    "col = np.array([7.,8.,9.]).reshape((3,1))\n",
    "print(col.shape)\n",
    "np.concatenate((b,col),axis=1)"
   ],
   "metadata": {
    "collapsed": false,
    "pycharm": {
     "name": "#%%\n"
    }
   }
  },
  {
   "cell_type": "code",
   "execution_count": null,
   "outputs": [],
   "source": [
    "np.concatenate((col,b),axis=1)"
   ],
   "metadata": {
    "collapsed": false,
    "pycharm": {
     "name": "#%%\n"
    }
   }
  },
  {
   "cell_type": "markdown",
   "source": [
    "### Adding a column using *hstack()*"
   ],
   "metadata": {
    "collapsed": false
   }
  },
  {
   "cell_type": "code",
   "execution_count": null,
   "outputs": [],
   "source": [
    "# hstack requires the same dimensions for row count\n",
    "np.hstack((b,[[7.],[8.],[9.]]))"
   ],
   "metadata": {
    "collapsed": false,
    "pycharm": {
     "name": "#%%\n"
    }
   }
  },
  {
   "cell_type": "markdown",
   "source": [
    "### Adding a column using *column_stack()*"
   ],
   "metadata": {
    "collapsed": false
   }
  },
  {
   "cell_type": "code",
   "execution_count": null,
   "outputs": [],
   "source": [
    "# note the tuple of\n",
    "np.column_stack((b,[7.,8.,9.]))"
   ],
   "metadata": {
    "collapsed": false,
    "pycharm": {
     "name": "#%%\n"
    }
   }
  },
  {
   "cell_type": "code",
   "execution_count": null,
   "outputs": [],
   "source": [
    "# note the tuple of\n",
    "np.column_stack(([7.,8.,9.],b))"
   ],
   "metadata": {
    "collapsed": false,
    "pycharm": {
     "name": "#%%\n"
    }
   }
  },
  {
   "cell_type": "markdown",
   "source": [
    "# Adding Data to a DataFrame\n",
    "Pandas allows you to add data in a natural way, however you need to be aware of what happens in the process. Pandas relaxes the restriction on matching dimensions and can index allign the data."
   ],
   "metadata": {
    "collapsed": false
   }
  },
  {
   "cell_type": "code",
   "execution_count": null,
   "outputs": [],
   "source": [
    "import pandas as pd\n",
    "frame = pd.DataFrame([[0,1,2,3],[4,5,6,7],[8,9,10,11],[12,13,14,15]], index=['a','b','c', 'd'], columns=['Ohio', 'Coleorado', 'Utah', 'New York'])\n",
    "print(frame.Ohio)\n",
    "print()\n",
    "print(frame.loc['a'])\n",
    "frame"
   ],
   "metadata": {
    "collapsed": false,
    "pycharm": {
     "name": "#%%\n"
    }
   }
  },
  {
   "cell_type": "code",
   "execution_count": null,
   "outputs": [],
   "source": [
    "type(frame.loc['a']) == pd.Series"
   ],
   "metadata": {
    "collapsed": false,
    "pycharm": {
     "name": "#%%\n"
    }
   }
  },
  {
   "cell_type": "code",
   "execution_count": null,
   "outputs": [],
   "source": [
    "frame.index.values[0]"
   ],
   "metadata": {
    "collapsed": false,
    "pycharm": {
     "name": "#%%\n"
    }
   }
  },
  {
   "cell_type": "code",
   "execution_count": null,
   "outputs": [],
   "source": [
    "frame1=frame.copy()\n",
    "ser =  pd.Series([4, 7, -5, 3,2], index=['c', 'b', 'a', 'd','e'])\n",
    "ser.name = \"Hawaii\"\n",
    "pd.concat([frame1,ser],axis=1,sort=True)"
   ],
   "metadata": {
    "collapsed": false,
    "pycharm": {
     "name": "#%%\n"
    }
   }
  },
  {
   "cell_type": "markdown",
   "source": [
    "## Merging Datasets"
   ],
   "metadata": {
    "collapsed": false
   }
  },
  {
   "cell_type": "code",
   "execution_count": null,
   "outputs": [],
   "source": [
    "df = pd.DataFrame({'key': ['K0', 'K1', 'K2', 'K3', 'K4', 'K5'],\n",
    "                   'A': ['A0', 'A1', 'A2', 'A3', 'A4', 'A5']})\n",
    "df"
   ],
   "metadata": {
    "collapsed": false,
    "pycharm": {
     "name": "#%%\n"
    }
   }
  },
  {
   "cell_type": "code",
   "execution_count": null,
   "outputs": [],
   "source": [
    "other = pd.DataFrame({'key': ['K0', 'K1', 'K3'],\n",
    "                      'B': ['B0', 'B1', 'B3']})\n",
    "other"
   ],
   "metadata": {
    "collapsed": false,
    "pycharm": {
     "name": "#%%\n"
    }
   }
  },
  {
   "cell_type": "code",
   "execution_count": null,
   "outputs": [],
   "source": [
    "df.join(other, lsuffix='_caller')"
   ],
   "metadata": {
    "collapsed": false,
    "pycharm": {
     "name": "#%%\n"
    }
   }
  },
  {
   "cell_type": "code",
   "execution_count": null,
   "outputs": [],
   "source": [
    "df.set_index('key').join(other.set_index('key'))"
   ],
   "metadata": {
    "collapsed": false,
    "pycharm": {
     "name": "#%%\n"
    }
   }
  },
  {
   "cell_type": "code",
   "execution_count": null,
   "outputs": [],
   "source": [
    "df.join(other.set_index('key'), on='key')\n",
    "\n"
   ],
   "metadata": {
    "collapsed": false,
    "pycharm": {
     "name": "#%%\n"
    }
   }
  },
  {
   "cell_type": "markdown",
   "source": [
    "# Data analysis example:\n",
    "# Vaccination data"
   ],
   "metadata": {
    "collapsed": false
   }
  },
  {
   "cell_type": "markdown",
   "source": [
    "Let's go back to our example of vaccination data, and let's focus on a specific question: what regions are better performing?\n",
    "In order to establish a metric to measure performance, we took two indicators:\n",
    "\n",
    "1. The number of vaccintions shots per center of vaccination\n",
    "2. The percentage of vaccination shots w.r.t. the population of the region\n",
    "\n",
    "For point 1, we can use thw 2 csv files we already discussed of the dataset provided by https://github.com/italia/covid19-opendata-vaccini.\n",
    "\n",
    "Instead, we need to find another dataset with the population of the different regions in Italy. For such statistics, a good source\n",
    "is Eurostat (https://ec.europa.eu/eurostat/data/database). In particular, we are looking for the population of NUTS2 areas (https://en.wikipedia.org/wiki/NUTS_statistical_regions_of_Italy).\n",
    "We can get such dataset through the following path:\n",
    "\n",
    "* Database by themes\n",
    "* Population and social conditions\n",
    "* Population (demo_pop)\n",
    "* Regional data (demopreg)\n",
    "* Population (...) by (...) NUTS 2 region (demo_r_d2jan).\n",
    "\n",
    "From here (https://ec.europa.eu/eurostat/databrowser/view/demo_r_d2jan/default/table?lang=en) we can select only the latest data (2020)\n",
    "and only for NUTS 2 regions in Italy. Our vaccination dataset contains the NUTS 2 code of each region, and we can rely on this\n",
    "column to merge the two datasets."
   ],
   "metadata": {
    "collapsed": false
   }
  },
  {
   "cell_type": "markdown",
   "source": [
    "# Reading the dataset\n",
    "\n",
    "We saw how to read a csv file using the python csv reader:\n",
    " - https://docs.python.org/3/library/csv.html\n",
    "\n",
    "Pandas provides a specific method for reading csv files:\n",
    " - http://pandas.pydata.org/pandas-docs/stable/io.html\n",
    " - https://pandas.pydata.org/pandas-docs/stable/generated/pandas.read_csv.html\n",
    "\n",
    "It has an impressive number of parameters, useful to set the delimiter, the header, to load just a subset of the columns, to load just a subset of the rows.\n",
    "\n",
    "Pandas also allows to create a dataframe from JSON, HTML, MS EXCEL and even from Clipboard.\n",
    "\n",
    "\n",
    "By default:\n",
    " - `sep=','`: the separator is the comma\n",
    " - `header='infer'`: the header presence is inferred\n",
    "\n",
    "These parameters are sufficient for use, we just need to specify the file to be read."
   ],
   "metadata": {
    "collapsed": false
   }
  },
  {
   "cell_type": "code",
   "execution_count": null,
   "outputs": [],
   "source": [
    "import pandas as pd\n",
    "import os.path\n",
    "\n",
    "data_folder = \"datasets\"\n",
    "full_filename = os.path.join( data_folder, 'punti-somministrazione-latest.csv')\n",
    "\n",
    "vaccination_centers = pd.read_csv(full_filename)\n",
    "vaccination_centers.head(5)"
   ],
   "metadata": {
    "collapsed": false,
    "pycharm": {
     "name": "#%%\n"
    }
   }
  },
  {
   "cell_type": "code",
   "execution_count": null,
   "outputs": [],
   "source": [
    "full_filename = os.path.join( data_folder, 'somministrazioni-vaccini-summary-latest.csv')\n",
    "\n",
    "vaccination_stats = pd.read_csv(full_filename)\n",
    "vaccination_stats.head(5)\n"
   ],
   "metadata": {
    "collapsed": false,
    "pycharm": {
     "name": "#%%\n"
    }
   }
  },
  {
   "cell_type": "code",
   "execution_count": null,
   "outputs": [],
   "source": [
    "data_folder_eurostat = os.path.join('datasets', 'eurostat')\n",
    "full_filename = os.path.join( data_folder_eurostat, 'estat_demo_r_d2jan.csv')\n",
    "population_NUTS2 = pd.read_csv(full_filename)\n",
    "population_NUTS2.head(5)"
   ],
   "metadata": {
    "collapsed": false,
    "pycharm": {
     "name": "#%%\n"
    }
   }
  },
  {
   "cell_type": "markdown",
   "source": [
    "### Reshaping\n",
    "\n",
    "We want know to extract some information from these datasets. In particular, we need to know:\n",
    "\n",
    "* the number of people vaccinated in each NUTS 2 region in Italy\n",
    "* the number of vaccination centers in each NUTS 2 region in Italy\n",
    "* the population of each NUTS 2 region in Italy"
   ],
   "metadata": {
    "collapsed": false
   }
  },
  {
   "cell_type": "code",
   "execution_count": null,
   "outputs": [],
   "source": [
    "vaccination_stats_projected = vaccination_stats[['codice_NUTS2','totale']]\n",
    "vaccination_stats_projected = vaccination_stats_projected.set_index('codice_NUTS2')\n",
    "vaccination_stats_projected = vaccination_stats_projected.sum(level='codice_NUTS2')\n",
    "vaccination_stats_projected = vaccination_stats_projected.rename(columns={'totale': 'totale_vaccini'})\n",
    "vaccination_stats_projected"
   ],
   "metadata": {
    "collapsed": false,
    "pycharm": {
     "name": "#%%\n"
    }
   }
  },
  {
   "cell_type": "code",
   "execution_count": null,
   "outputs": [],
   "source": [
    "vaccination_centers_projected = vaccination_centers[['codice_NUTS2']]\n",
    "vaccination_centers_projected = vaccination_centers_projected.set_index('codice_NUTS2')\n",
    "vaccination_centers_projected['totale_centri'] = 1\n",
    "vaccination_centers_projected = vaccination_centers_projected.sum(level='codice_NUTS2')\n",
    "vaccination_centers_projected"
   ],
   "metadata": {
    "collapsed": false,
    "pycharm": {
     "name": "#%%\n"
    }
   }
  },
  {
   "cell_type": "code",
   "execution_count": null,
   "outputs": [],
   "source": [
    "population_NUTS2 = population_NUTS2[['geo','OBS_VALUE']]\n",
    "population_NUTS2 = population_NUTS2.rename(columns={'geo': 'codice_NUTS2', 'OBS_VALUE' : 'totale_popolazione' })\n",
    "population_NUTS2 = population_NUTS2.set_index('codice_NUTS2')\n",
    "population_NUTS2"
   ],
   "metadata": {
    "collapsed": false,
    "pycharm": {
     "name": "#%%\n"
    }
   }
  },
  {
   "cell_type": "markdown",
   "source": [
    "### Joining\n",
    "\n",
    "Finally, we are in position to join the three different datasets, and to compute some further statistics."
   ],
   "metadata": {
    "collapsed": false
   }
  },
  {
   "cell_type": "code",
   "execution_count": null,
   "outputs": [],
   "source": [
    "complete_dataframe = vaccination_stats_projected.join(vaccination_centers_projected).join(population_NUTS2)\n",
    "complete_dataframe"
   ],
   "metadata": {
    "collapsed": false,
    "pycharm": {
     "name": "#%%\n"
    }
   }
  },
  {
   "cell_type": "code",
   "execution_count": null,
   "outputs": [],
   "source": [
    "complete_dataframe['vaccini_popolazione'] = (complete_dataframe['totale_vaccini']/complete_dataframe['totale_popolazione'])*100\n",
    "complete_dataframe['vaccini_centro'] = (complete_dataframe['totale_vaccini']/complete_dataframe['totale_centri'])\n",
    "complete_dataframe"
   ],
   "metadata": {
    "collapsed": false,
    "pycharm": {
     "name": "#%%\n"
    }
   }
  },
  {
   "cell_type": "markdown",
   "source": [
    "It is pretty hard to understand of what exact region we are talking about since the name of the region is missing. Let's therefore\n",
    "add another csv file (taken from Eurostat)\n",
    "The fact that the name of the region is missing"
   ],
   "metadata": {
    "collapsed": false
   }
  },
  {
   "cell_type": "code",
   "execution_count": null,
   "outputs": [],
   "source": [
    "full_filename = os.path.join( data_folder_eurostat, 'GEO_EN.csv')\n",
    "NUTS2_names = pd.read_csv(full_filename, header=None)\n",
    "NUTS2_names.head(5)"
   ],
   "metadata": {
    "collapsed": false,
    "pycharm": {
     "name": "#%%\n"
    }
   }
  },
  {
   "cell_type": "code",
   "execution_count": null,
   "outputs": [],
   "source": [
    "NUTS2_names = NUTS2_names.rename(columns={0: 'codice_NUTS2', 1 : 'name' })\n",
    "NUTS2_names = NUTS2_names.set_index('codice_NUTS2')\n",
    "NUTS2_names"
   ],
   "metadata": {
    "collapsed": false,
    "pycharm": {
     "name": "#%%\n"
    }
   }
  },
  {
   "cell_type": "code",
   "execution_count": null,
   "outputs": [],
   "source": [
    "complete_dataframe = complete_dataframe.join(NUTS2_names)\n",
    "complete_dataframe"
   ],
   "metadata": {
    "collapsed": false,
    "pycharm": {
     "name": "#%%\n"
    }
   }
  },
  {
   "cell_type": "code",
   "execution_count": null,
   "outputs": [],
   "source": [
    "complete_dataframe.sort_values('vaccini_popolazione')"
   ],
   "metadata": {
    "collapsed": false,
    "pycharm": {
     "name": "#%%\n"
    }
   }
  },
  {
   "cell_type": "code",
   "execution_count": null,
   "outputs": [],
   "source": [
    "complete_dataframe.sort_values('vaccini_centro')"
   ],
   "metadata": {
    "collapsed": false,
    "pycharm": {
     "name": "#%%\n"
    }
   }
  },
  {
   "cell_type": "markdown",
   "source": [
    "# Exercise\n",
    "Now you are in position to extend the analysis over vaccination data as you wish!\n",
    "\n",
    "For instance, you might compute dataframes with the following information:\n",
    "\n",
    "* how many people, percentage of people or people per center were vaccinated per region every day/week/month?\n",
    "* what region performed best on some metrics on some specific time frame (day, week, month)?\n",
    "* was there any difference between males and females?\n",
    "* what about instead the other categories (such as people over 80, working in the hospitals, etc..)?\n",
    "\n",
    "# References\n",
    "\n",
    " - **Python for Data Analysis**. O'Reilly. Wes McKinney.\n",
    "   - Section 5.1 (Indexing, Selection, and Filtering)\n",
    "   - Section 5.2 (Arithmetic and Data Alignment Function Application and Mapping Sorting and Ranking)\n",
    "   - Section 5.3 (Unique Values, Value Counts, and Membership)\n",
    "\n",
    " - http://pandas.pydata.org/pandas-docs/stable/reference/frame.html\n"
   ],
   "metadata": {
    "collapsed": false
   }
  }
 ],
 "metadata": {
  "authors": [
   {
    "name": "Claudio Lucchese"
   }
  ],
  "kernelspec": {
   "display_name": "Python 3",
   "language": "python",
   "name": "python3"
  },
  "language_info": {
   "codemirror_mode": {
    "name": "ipython",
    "version": 3
   },
   "file_extension": ".py",
   "mimetype": "text/x-python",
   "name": "python",
   "nbconvert_exporter": "python",
   "pygments_lexer": "ipython3",
   "version": "3.7.4"
  }
 },
 "nbformat": 4,
 "nbformat_minor": 2
}